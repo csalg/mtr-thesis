{
 "cells": [
  {
   "cell_type": "code",
   "execution_count": 4,
   "id": "127aef86",
   "metadata": {},
   "outputs": [
    {
     "name": "stdout",
     "output_type": "stream",
     "text": [
      "{'charlie': 'user_1', 'oliver-chao': 'user_2', 'Niichts2': 'user_3', 'Julia': 'user_4', 'cagomi': 'user_5', 'Papercloip': 'user_6', 'gothicgamer3000': 'user_7', 'caojian': 'user_8', 'marxxrina': 'user_9', 'testuser': 'user_10', 'caojian81': 'user_11', 'maarten': 'user_12', 'merche': 'user_13', 'charlie_dansk': 'user_14', 'oliver-dansk': 'user_15', 'heitorkk2': 'user_16', 'cyu13': 'user_17', 'guest_da': 'user_18', 'guest_es': 'user_19'}\n"
     ]
    }
   ],
   "source": [
    "import util\n",
    "\n",
    "aliases = {}\n",
    "counter = 0\n",
    "\n",
    "logs = []\n",
    "for log in util.load_logs():\n",
    "    if 'user' in log:\n",
    "        user = log['user']\n",
    "        if user not in aliases:\n",
    "            counter += 1\n",
    "            aliases[user] = f'user_{counter}'\n",
    "        log['user'] = aliases[user]\n",
    "        logs.append(log)\n",
    "        \n",
    "\n",
    "print(aliases)\n",
    "    "
   ]
  },
  {
   "cell_type": "code",
   "execution_count": 6,
   "id": "b8e9507c",
   "metadata": {},
   "outputs": [
    {
     "data": {
      "text/plain": [
       "508740"
      ]
     },
     "execution_count": 6,
     "metadata": {},
     "output_type": "execute_result"
    }
   ],
   "source": [
    "len(logs)"
   ]
  },
  {
   "cell_type": "code",
   "execution_count": 9,
   "id": "28ba6714",
   "metadata": {},
   "outputs": [],
   "source": [
    "import pickle\n",
    "\n",
    "with open('data/logs-anon.pkl', 'wb') as file:\n",
    "    pickle.dump(logs, file)"
   ]
  },
  {
   "cell_type": "code",
   "execution_count": 12,
   "id": "13bd55b2",
   "metadata": {},
   "outputs": [],
   "source": [
    "lower_bound = None\n",
    "upper_bound = None\n",
    "\n",
    "for log in logs:\n",
    "    if 'timestamp' in log:\n",
    "        timestamp = log['timestamp']\n",
    "        if not lower_bound:\n",
    "            lower_bound = timestamp\n",
    "        if not upper_bound:\n",
    "            upper_bound = timestamp\n",
    "        if timestamp < lower_bound:\n",
    "            lower_bound = timestamp\n",
    "        if upper_bound < timestamp:\n",
    "            upper_bound = timestamp"
   ]
  },
  {
   "cell_type": "code",
   "execution_count": 18,
   "id": "4b3d07d5",
   "metadata": {},
   "outputs": [
    {
     "data": {
      "text/plain": [
       "424.7976273148148"
      ]
     },
     "execution_count": 18,
     "metadata": {},
     "output_type": "execute_result"
    }
   ],
   "source": [
    "\n",
    "seconds = upper_bound - lower_bound\n",
    "seconds / (24*60*60)"
   ]
  },
  {
   "cell_type": "code",
   "execution_count": null,
   "id": "f3b603f3",
   "metadata": {},
   "outputs": [],
   "source": []
  }
 ],
 "metadata": {
  "kernelspec": {
   "display_name": "Python 3 (ipykernel)",
   "language": "python",
   "name": "python3"
  },
  "language_info": {
   "codemirror_mode": {
    "name": "ipython",
    "version": 3
   },
   "file_extension": ".py",
   "mimetype": "text/x-python",
   "name": "python",
   "nbconvert_exporter": "python",
   "pygments_lexer": "ipython3",
   "version": "3.10.1"
  }
 },
 "nbformat": 4,
 "nbformat_minor": 5
}
