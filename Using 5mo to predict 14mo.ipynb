{
 "cells": [
  {
   "cell_type": "markdown",
   "id": "6c98b51c",
   "metadata": {},
   "source": [
    "The goal of this notebook is to find out the performance of the 5mo model when trying to predict the remaining 9mo. If it isn't very good, then the idea is to use this model to initialize a LwF model and use that to improve performance."
   ]
  },
  {
   "cell_type": "code",
   "execution_count": 3,
   "id": "b0ff9175",
   "metadata": {},
   "outputs": [],
   "source": [
    "from dataclasses import dataclass\n",
    "from typing import Union\n",
    "\n",
    "@dataclass\n",
    "class DatasetConfiguration:\n",
    "    users: Union[None, list] = None\n",
    "    dataset: str = 'logs-14mo.pkl'\n",
    "    keep_username: bool = False\n",
    "    keep_timestamp: bool = False"
   ]
  },
  {
   "cell_type": "code",
   "execution_count": 4,
   "id": "52752ccc",
   "metadata": {},
   "outputs": [
    {
     "data": {
      "text/plain": [
       "DatasetConfiguration(users=None, dataset='logs-14mo.pkl', keep_username=False, keep_timestamp=False)"
      ]
     },
     "execution_count": 4,
     "metadata": {},
     "output_type": "execute_result"
    }
   ],
   "source": [
    "DatasetConfiguration()"
   ]
  }
 ],
 "metadata": {
  "kernelspec": {
   "display_name": "Python 3 (ipykernel)",
   "language": "python",
   "name": "python3"
  },
  "language_info": {
   "codemirror_mode": {
    "name": "ipython",
    "version": 3
   },
   "file_extension": ".py",
   "mimetype": "text/x-python",
   "name": "python",
   "nbconvert_exporter": "python",
   "pygments_lexer": "ipython3",
   "version": "3.10.1"
  }
 },
 "nbformat": 4,
 "nbformat_minor": 5
}
